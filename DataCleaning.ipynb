{
    "metadata": {
        "kernelspec": {
            "name": "SQL",
            "display_name": "SQL",
            "language": "sql"
        },
        "language_info": {
            "name": "sql",
            "version": ""
        }
    },
    "nbformat_minor": 2,
    "nbformat": 4,
    "cells": [
        {
            "cell_type": "markdown",
            "source": [
                "## **CUSTOMER TABLE CLEANING**"
            ],
            "metadata": {
                "language": "sql",
                "azdata_cell_guid": "112dc136-0d9c-4440-a2a9-14afe11b7bc8"
            },
            "attachments": {}
        },
        {
            "cell_type": "code",
            "source": [
                "SELECT TOP(5) * \n",
                "FROM  [OlistBusiness].[dbo].[olist_customers_dataset]"
            ],
            "metadata": {
                "azdata_cell_guid": "5ff6af97-ad32-4c33-88c9-3f40f121a9f1",
                "language": "sql",
                "tags": []
            },
            "outputs": [
                {
                    "output_type": "display_data",
                    "data": {
                        "text/html": "(5 rows affected)"
                    },
                    "metadata": {}
                },
                {
                    "output_type": "display_data",
                    "data": {
                        "text/html": "Total execution time: 00:00:00.037"
                    },
                    "metadata": {}
                },
                {
                    "output_type": "execute_result",
                    "metadata": {},
                    "execution_count": 1,
                    "data": {
                        "application/vnd.dataresource+json": {
                            "schema": {
                                "fields": [
                                    {
                                        "name": "customer_id"
                                    },
                                    {
                                        "name": "customer_unique_id"
                                    },
                                    {
                                        "name": "customer_zip_code_prefix"
                                    },
                                    {
                                        "name": "customer_city"
                                    },
                                    {
                                        "name": "customer_state"
                                    }
                                ]
                            },
                            "data": [
                                {
                                    "customer_id": "06b8999e2fba1a1fbc88172c00ba8bc7",
                                    "customer_unique_id": "861eff4711a542e4b93843c6dd7febb0",
                                    "customer_zip_code_prefix": "14409",
                                    "customer_city": "Franca",
                                    "customer_state": "Sao-Paulo"
                                },
                                {
                                    "customer_id": "18955e83d337fd6b2def6b18a428ac77",
                                    "customer_unique_id": "290c77bc529b7ac935b93aa66c333dc3",
                                    "customer_zip_code_prefix": "9790",
                                    "customer_city": "Sao bernardo do campo",
                                    "customer_state": "Sao-Paulo"
                                },
                                {
                                    "customer_id": "4e7b3e00288586ebd08712fdd0374a03",
                                    "customer_unique_id": "060e732b5b29e8181a18229c7b0b2b5e",
                                    "customer_zip_code_prefix": "1151",
                                    "customer_city": "Sao paulo",
                                    "customer_state": "Sao-Paulo"
                                },
                                {
                                    "customer_id": "b2b6027bc5c5109e529d4dc6358b12c3",
                                    "customer_unique_id": "259dac757896d24d7702b9acbbff3f3c",
                                    "customer_zip_code_prefix": "8775",
                                    "customer_city": "Mogi das cruzes",
                                    "customer_state": "Sao-Paulo"
                                },
                                {
                                    "customer_id": "4f2d8ab171c80ec8364f7c12e35b23ad",
                                    "customer_unique_id": "345ecd01c38d18a9036ed96c73b8d066",
                                    "customer_zip_code_prefix": "13056",
                                    "customer_city": "Campinas",
                                    "customer_state": "Sao-Paulo"
                                }
                            ]
                        },
                        "text/html": [
                            "<table>",
                            "<tr><th>customer_id</th><th>customer_unique_id</th><th>customer_zip_code_prefix</th><th>customer_city</th><th>customer_state</th></tr>",
                            "<tr><td>06b8999e2fba1a1fbc88172c00ba8bc7</td><td>861eff4711a542e4b93843c6dd7febb0</td><td>14409</td><td>Franca</td><td>Sao-Paulo</td></tr>",
                            "<tr><td>18955e83d337fd6b2def6b18a428ac77</td><td>290c77bc529b7ac935b93aa66c333dc3</td><td>9790</td><td>Sao bernardo do campo</td><td>Sao-Paulo</td></tr>",
                            "<tr><td>4e7b3e00288586ebd08712fdd0374a03</td><td>060e732b5b29e8181a18229c7b0b2b5e</td><td>1151</td><td>Sao paulo</td><td>Sao-Paulo</td></tr>",
                            "<tr><td>b2b6027bc5c5109e529d4dc6358b12c3</td><td>259dac757896d24d7702b9acbbff3f3c</td><td>8775</td><td>Mogi das cruzes</td><td>Sao-Paulo</td></tr>",
                            "<tr><td>4f2d8ab171c80ec8364f7c12e35b23ad</td><td>345ecd01c38d18a9036ed96c73b8d066</td><td>13056</td><td>Campinas</td><td>Sao-Paulo</td></tr>",
                            "</table>"
                        ]
                    }
                }
            ],
            "execution_count": 1
        },
        {
            "cell_type": "code",
            "source": [
                "-- Check for Missing Data across every columns\n",
                "\n",
                "SELECT \n",
                "    SUM(CASE WHEN [customer_id] IS NULL THEN 1 ELSE 0 END) AS customer_id_missing_values,\n",
                "    SUM(CASE WHEN [customer_unique_id] IS NULL THEN 1 ELSE 0 END) AS customer_unique_id_missing_values,\n",
                "    SUM(CASE WHEN [customer_zip_code_prefix] IS NULL THEN 1 ELSE 0 END) AS customer_zip_missing_values,\n",
                "    SUM(CASE WHEN [customer_city] IS NULL THEN 1 ELSE 0 END) AS customer_city_missing_values,\n",
                "    SUM(CASE WHEN [customer_state] IS NULL THEN 1 ELSE 0 END) AS customer_state_missing_values\n",
                "FROM \n",
                "    [OlistBusiness].[dbo].[olist_customers_dataset];"
            ],
            "metadata": {
                "azdata_cell_guid": "42638724-3eb1-499d-81d4-0c7d17c546a3",
                "language": "sql",
                "tags": []
            },
            "outputs": [
                {
                    "output_type": "display_data",
                    "data": {
                        "text/html": "(1 row affected)"
                    },
                    "metadata": {}
                },
                {
                    "output_type": "display_data",
                    "data": {
                        "text/html": "Total execution time: 00:00:00.630"
                    },
                    "metadata": {}
                },
                {
                    "output_type": "execute_result",
                    "metadata": {},
                    "execution_count": 2,
                    "data": {
                        "application/vnd.dataresource+json": {
                            "schema": {
                                "fields": [
                                    {
                                        "name": "customer_id_missing_values"
                                    },
                                    {
                                        "name": "customer_unique_id_missing_values"
                                    },
                                    {
                                        "name": "customer_zip_missing_values"
                                    },
                                    {
                                        "name": "customer_city_missing_values"
                                    },
                                    {
                                        "name": "customer_state_missing_values"
                                    }
                                ]
                            },
                            "data": [
                                {
                                    "customer_id_missing_values": "0",
                                    "customer_unique_id_missing_values": "0",
                                    "customer_zip_missing_values": "0",
                                    "customer_city_missing_values": "0",
                                    "customer_state_missing_values": "0"
                                }
                            ]
                        },
                        "text/html": [
                            "<table>",
                            "<tr><th>customer_id_missing_values</th><th>customer_unique_id_missing_values</th><th>customer_zip_missing_values</th><th>customer_city_missing_values</th><th>customer_state_missing_values</th></tr>",
                            "<tr><td>0</td><td>0</td><td>0</td><td>0</td><td>0</td></tr>",
                            "</table>"
                        ]
                    }
                }
            ],
            "execution_count": 2
        },
        {
            "cell_type": "code",
            "source": [
                "-- Capitalize the Customer City column\n",
                "UPDATE [OlistBusiness].[dbo].[olist_customers_dataset]\n",
                "SET [customer_city] = CONCAT(UPPER(LEFT([customer_city],1)), LOWER(RIGHT([customer_city], LEN([customer_city])-1)))"
            ],
            "metadata": {
                "azdata_cell_guid": "d442195c-5a72-430d-9e98-73f5c9e7ae62",
                "language": "sql",
                "tags": []
            },
            "outputs": [
                {
                    "output_type": "display_data",
                    "data": {
                        "text/html": "(99441 rows affected)"
                    },
                    "metadata": {}
                },
                {
                    "output_type": "display_data",
                    "data": {
                        "text/html": "Total execution time: 00:00:00.804"
                    },
                    "metadata": {}
                }
            ],
            "execution_count": 3
        },
        {
            "cell_type": "code",
            "source": [
                "-- -- Change to Full State Names\n",
                "-- CREATE FUNCTION dbo.GetFullCountryName (@abbreviation VARCHAR(50))\n",
                "-- RETURNS VARCHAR(50)\n",
                "-- AS\n",
                "-- BEGIN\n",
                "--     DECLARE @fullName VARCHAR(50)\n",
                "    \n",
                "--     SET @fullName = \n",
                "--         CASE \n",
                "--             WHEN @abbreviation = 'AL' THEN 'Alagoas'\n",
                "--             WHEN @abbreviation = 'AP' THEN 'Amapa'\n",
                "--             WHEN @abbreviation = 'AM' THEN 'Amazonas'\n",
                "--             WHEN @abbreviation = 'BA' THEN 'Bahia'\n",
                "--             WHEN @abbreviation = 'CE' THEN 'Ceara'\n",
                "--             WHEN @abbreviation = 'DF' THEN 'Districto-Federal'\n",
                "--             WHEN @abbreviation = 'ES' THEN 'Espirito Santo'\n",
                "--             WHEN @abbreviation = 'GO' THEN 'Goias'\n",
                "--             WHEN @abbreviation = 'MA' THEN 'Maranhao'\n",
                "--             WHEN @abbreviation = 'MG' THEN 'Minas-Gerais'\n",
                "--             WHEN @abbreviation = 'MS' THEN 'Mato Grosso-d-Sul'\n",
                "--             WHEN @abbreviation = 'MT' THEN 'Mato-Grosso'\n",
                "--             WHEN @abbreviation = 'PA' THEN 'Para'\n",
                "--             WHEN @abbreviation = 'PB' THEN 'Paraiba'\n",
                "--             WHEN @abbreviation = 'PE' THEN 'Pernambuco' \n",
                "--             WHEN @abbreviation = 'PI' THEN 'Piaui'\n",
                "--             WHEN @abbreviation = 'PR' THEN 'Parana'\n",
                "--             WHEN @abbreviation = 'RJ' THEN 'Rio-de-Janeiro'\n",
                "--             WHEN @abbreviation = 'RN' THEN 'Rio-Grande-d-Norte'\n",
                "--             WHEN @abbreviation = 'RO' THEN 'Rondonia'\n",
                "--             WHEN @abbreviation = 'RR' THEN 'Roraima'\n",
                "--             WHEN @abbreviation = 'RS' THEN 'Rio-Grande-d-Sul' \n",
                "--             WHEN @abbreviation = 'SC' THEN 'Santa-Catarina'\n",
                "--             WHEN @abbreviation = 'SE' THEN 'Sergipe'\n",
                "--             WHEN @abbreviation = 'SP' THEN 'Sao-Paulo'\n",
                "--             WHEN @abbreviation = 'TO' THEN 'Tocantins'\n",
                "--             ELSE 'UNKNOWN'\n",
                "--         END\n",
                "    \n",
                "--     RETURN @fullName\n",
                "-- END;\n",
                ""
            ],
            "metadata": {
                "azdata_cell_guid": "aae2fde8-a9d5-48cc-b339-fa5bf07ab4c2",
                "language": "sql",
                "tags": []
            },
            "outputs": [
                {
                    "output_type": "display_data",
                    "data": {
                        "text/html": "Commands completed successfully."
                    },
                    "metadata": {}
                },
                {
                    "output_type": "display_data",
                    "data": {
                        "text/html": "Total execution time: 00:00:00.001"
                    },
                    "metadata": {}
                }
            ],
            "execution_count": 4
        },
        {
            "cell_type": "code",
            "source": [
                "-- -- Change to Full Country Names2\n",
                "-- UPDATE [OlistBusiness].[dbo].[olist_customers_dataset]\n",
                "-- SET [customer_state] = dbo.GetFullCountryName([customer_state])"
            ],
            "metadata": {
                "azdata_cell_guid": "8c576b70-5796-417c-a376-02ce86464253",
                "language": "sql",
                "tags": []
            },
            "outputs": [
                {
                    "output_type": "display_data",
                    "data": {
                        "text/html": "Commands completed successfully."
                    },
                    "metadata": {}
                },
                {
                    "output_type": "display_data",
                    "data": {
                        "text/html": "Total execution time: 00:00:00.001"
                    },
                    "metadata": {}
                }
            ],
            "execution_count": 5
        },
        {
            "cell_type": "code",
            "source": [
                "SELECT TOP(5) * FROM [OlistBusiness].[dbo].[olist_customers_dataset]"
            ],
            "metadata": {
                "azdata_cell_guid": "aecd9492-cf60-4d5c-bb82-aae5bf44ba60",
                "language": "sql",
                "tags": []
            },
            "outputs": [
                {
                    "output_type": "display_data",
                    "data": {
                        "text/html": "(5 rows affected)"
                    },
                    "metadata": {}
                },
                {
                    "output_type": "display_data",
                    "data": {
                        "text/html": "Total execution time: 00:00:01.319"
                    },
                    "metadata": {}
                },
                {
                    "output_type": "execute_result",
                    "metadata": {},
                    "execution_count": 6,
                    "data": {
                        "application/vnd.dataresource+json": {
                            "schema": {
                                "fields": [
                                    {
                                        "name": "customer_id"
                                    },
                                    {
                                        "name": "customer_unique_id"
                                    },
                                    {
                                        "name": "customer_zip_code_prefix"
                                    },
                                    {
                                        "name": "customer_city"
                                    },
                                    {
                                        "name": "customer_state"
                                    }
                                ]
                            },
                            "data": [
                                {
                                    "customer_id": "06b8999e2fba1a1fbc88172c00ba8bc7",
                                    "customer_unique_id": "861eff4711a542e4b93843c6dd7febb0",
                                    "customer_zip_code_prefix": "14409",
                                    "customer_city": "Franca",
                                    "customer_state": "Sao-Paulo"
                                },
                                {
                                    "customer_id": "18955e83d337fd6b2def6b18a428ac77",
                                    "customer_unique_id": "290c77bc529b7ac935b93aa66c333dc3",
                                    "customer_zip_code_prefix": "9790",
                                    "customer_city": "Sao bernardo do campo",
                                    "customer_state": "Sao-Paulo"
                                },
                                {
                                    "customer_id": "4e7b3e00288586ebd08712fdd0374a03",
                                    "customer_unique_id": "060e732b5b29e8181a18229c7b0b2b5e",
                                    "customer_zip_code_prefix": "1151",
                                    "customer_city": "Sao paulo",
                                    "customer_state": "Sao-Paulo"
                                },
                                {
                                    "customer_id": "b2b6027bc5c5109e529d4dc6358b12c3",
                                    "customer_unique_id": "259dac757896d24d7702b9acbbff3f3c",
                                    "customer_zip_code_prefix": "8775",
                                    "customer_city": "Mogi das cruzes",
                                    "customer_state": "Sao-Paulo"
                                },
                                {
                                    "customer_id": "4f2d8ab171c80ec8364f7c12e35b23ad",
                                    "customer_unique_id": "345ecd01c38d18a9036ed96c73b8d066",
                                    "customer_zip_code_prefix": "13056",
                                    "customer_city": "Campinas",
                                    "customer_state": "Sao-Paulo"
                                }
                            ]
                        },
                        "text/html": [
                            "<table>",
                            "<tr><th>customer_id</th><th>customer_unique_id</th><th>customer_zip_code_prefix</th><th>customer_city</th><th>customer_state</th></tr>",
                            "<tr><td>06b8999e2fba1a1fbc88172c00ba8bc7</td><td>861eff4711a542e4b93843c6dd7febb0</td><td>14409</td><td>Franca</td><td>Sao-Paulo</td></tr>",
                            "<tr><td>18955e83d337fd6b2def6b18a428ac77</td><td>290c77bc529b7ac935b93aa66c333dc3</td><td>9790</td><td>Sao bernardo do campo</td><td>Sao-Paulo</td></tr>",
                            "<tr><td>4e7b3e00288586ebd08712fdd0374a03</td><td>060e732b5b29e8181a18229c7b0b2b5e</td><td>1151</td><td>Sao paulo</td><td>Sao-Paulo</td></tr>",
                            "<tr><td>b2b6027bc5c5109e529d4dc6358b12c3</td><td>259dac757896d24d7702b9acbbff3f3c</td><td>8775</td><td>Mogi das cruzes</td><td>Sao-Paulo</td></tr>",
                            "<tr><td>4f2d8ab171c80ec8364f7c12e35b23ad</td><td>345ecd01c38d18a9036ed96c73b8d066</td><td>13056</td><td>Campinas</td><td>Sao-Paulo</td></tr>",
                            "</table>"
                        ]
                    }
                }
            ],
            "execution_count": 6
        },
        {
            "cell_type": "markdown",
            "source": [
                "## **GEOLOCATION TABLE CLEANING**"
            ],
            "metadata": {
                "language": "",
                "azdata_cell_guid": "d9bb2e56-2b32-4b32-9c6c-63288e0d9c4f"
            },
            "attachments": {}
        },
        {
            "cell_type": "code",
            "source": [
                "SELECT TOP(30) * \r\n",
                "FROM  [OlistBusiness].[dbo].[olist_geolocation_dataset]"
            ],
            "metadata": {
                "azdata_cell_guid": "02c30a2d-c226-4bb2-a3ca-ce524ec3346c",
                "language": "sql",
                "tags": []
            },
            "outputs": [
                {
                    "output_type": "display_data",
                    "data": {
                        "text/html": "(30 rows affected)"
                    },
                    "metadata": {}
                },
                {
                    "output_type": "display_data",
                    "data": {
                        "text/html": "Total execution time: 00:00:00.090"
                    },
                    "metadata": {}
                },
                {
                    "output_type": "execute_result",
                    "metadata": {},
                    "execution_count": 7,
                    "data": {
                        "application/vnd.dataresource+json": {
                            "schema": {
                                "fields": [
                                    {
                                        "name": "geolocation_zip_code_prefix"
                                    },
                                    {
                                        "name": "geolocation_lat"
                                    },
                                    {
                                        "name": "geolocation_lng"
                                    },
                                    {
                                        "name": "geolocation_city"
                                    },
                                    {
                                        "name": "geolocation_state"
                                    }
                                ]
                            },
                            "data": [
                                {
                                    "geolocation_zip_code_prefix": "1037",
                                    "geolocation_lat": "-23.54562128115268",
                                    "geolocation_lng": "-46.63929204800168",
                                    "geolocation_city": "Sao paulo",
                                    "geolocation_state": "Sao-Paulo"
                                },
                                {
                                    "geolocation_zip_code_prefix": "1046",
                                    "geolocation_lat": "-23.546081127035535",
                                    "geolocation_lng": "-46.64482029837157",
                                    "geolocation_city": "Sao paulo",
                                    "geolocation_state": "Sao-Paulo"
                                },
                                {
                                    "geolocation_zip_code_prefix": "1046",
                                    "geolocation_lat": "-23.54612896641469",
                                    "geolocation_lng": "-46.64295148361138",
                                    "geolocation_city": "Sao paulo",
                                    "geolocation_state": "Sao-Paulo"
                                },
                                {
                                    "geolocation_zip_code_prefix": "1041",
                                    "geolocation_lat": "-23.5443921648681",
                                    "geolocation_lng": "-46.63949930627844",
                                    "geolocation_city": "Sao paulo",
                                    "geolocation_state": "Sao-Paulo"
                                },
                                {
                                    "geolocation_zip_code_prefix": "1035",
                                    "geolocation_lat": "-23.541577961711493",
                                    "geolocation_lng": "-46.64160722329613",
                                    "geolocation_city": "Sao paulo",
                                    "geolocation_state": "Sao-Paulo"
                                },
                                {
                                    "geolocation_zip_code_prefix": "1012",
                                    "geolocation_lat": "-23.547762303364266",
                                    "geolocation_lng": "-46.63536053788448",
                                    "geolocation_city": "Sao paulo",
                                    "geolocation_state": "Sao-Paulo"
                                },
                                {
                                    "geolocation_zip_code_prefix": "1047",
                                    "geolocation_lat": "-23.546273112412678",
                                    "geolocation_lng": "-46.64122516971552",
                                    "geolocation_city": "Sao paulo",
                                    "geolocation_state": "Sao-Paulo"
                                },
                                {
                                    "geolocation_zip_code_prefix": "1013",
                                    "geolocation_lat": "-23.546923208436723",
                                    "geolocation_lng": "-46.6342636964915",
                                    "geolocation_city": "Sao paulo",
                                    "geolocation_state": "Sao-Paulo"
                                },
                                {
                                    "geolocation_zip_code_prefix": "1029",
                                    "geolocation_lat": "-23.543769055769133",
                                    "geolocation_lng": "-46.63427784085132",
                                    "geolocation_city": "Sao paulo",
                                    "geolocation_state": "Sao-Paulo"
                                },
                                {
                                    "geolocation_zip_code_prefix": "1011",
                                    "geolocation_lat": "-23.547639550320632",
                                    "geolocation_lng": "-46.63603162315495",
                                    "geolocation_city": "Sao paulo",
                                    "geolocation_state": "Sao-Paulo"
                                },
                                {
                                    "geolocation_zip_code_prefix": "1013",
                                    "geolocation_lat": "-23.547325128224376",
                                    "geolocation_lng": "-46.63418378613892",
                                    "geolocation_city": "Sao paulo",
                                    "geolocation_state": "Sao-Paulo"
                                },
                                {
                                    "geolocation_zip_code_prefix": "1032",
                                    "geolocation_lat": "-23.53841810407414",
                                    "geolocation_lng": "-46.634778375266734",
                                    "geolocation_city": "Sao paulo",
                                    "geolocation_state": "Sao-Paulo"
                                },
                                {
                                    "geolocation_zip_code_prefix": "1014",
                                    "geolocation_lat": "-23.546435343326205",
                                    "geolocation_lng": "-46.63383023397196",
                                    "geolocation_city": "Sao paulo",
                                    "geolocation_state": "Sao-Paulo"
                                },
                                {
                                    "geolocation_zip_code_prefix": "1012",
                                    "geolocation_lat": "-23.548945985189434",
                                    "geolocation_lng": "-46.63467113292871",
                                    "geolocation_city": "Sao paulo",
                                    "geolocation_state": "Sao-Paulo"
                                },
                                {
                                    "geolocation_zip_code_prefix": "1037",
                                    "geolocation_lat": "-23.545187340816042",
                                    "geolocation_lng": "-46.63785524104107",
                                    "geolocation_city": "Sao paulo",
                                    "geolocation_state": "Sao-Paulo"
                                },
                                {
                                    "geolocation_zip_code_prefix": "1046",
                                    "geolocation_lat": "-23.546081127035535",
                                    "geolocation_lng": "-46.64482029837157",
                                    "geolocation_city": "Sao paulo",
                                    "geolocation_state": "Sao-Paulo"
                                },
                                {
                                    "geolocation_zip_code_prefix": "1039",
                                    "geolocation_lat": "-23.541883009983316",
                                    "geolocation_lng": "-46.63991946670314",
                                    "geolocation_city": "Sao paulo",
                                    "geolocation_state": "Sao-Paulo"
                                },
                                {
                                    "geolocation_zip_code_prefix": "1024",
                                    "geolocation_lat": "-23.541389521053937",
                                    "geolocation_lng": "-46.629899087812184",
                                    "geolocation_city": "Sao paulo",
                                    "geolocation_state": "Sao-Paulo"
                                },
                                {
                                    "geolocation_zip_code_prefix": "1009",
                                    "geolocation_lat": "-23.54693540437998",
                                    "geolocation_lng": "-46.63658792659698",
                                    "geolocation_city": "Sao paulo",
                                    "geolocation_state": "Sao-Paulo"
                                },
                                {
                                    "geolocation_zip_code_prefix": "1046",
                                    "geolocation_lat": "-23.545884279214015",
                                    "geolocation_lng": "-46.643163191240035",
                                    "geolocation_city": "Sao paulo",
                                    "geolocation_state": "Sao-Paulo"
                                },
                                {
                                    "geolocation_zip_code_prefix": "1046",
                                    "geolocation_lat": "-23.545165891770928",
                                    "geolocation_lng": "-46.643785796266464",
                                    "geolocation_city": "Sao paulo",
                                    "geolocation_state": "Sao-Paulo"
                                },
                                {
                                    "geolocation_zip_code_prefix": "1020",
                                    "geolocation_lat": "-23.55223547100232",
                                    "geolocation_lng": "-46.6284406588955",
                                    "geolocation_city": "Sao paulo",
                                    "geolocation_state": "Sao-Paulo"
                                },
                                {
                                    "geolocation_zip_code_prefix": "1011",
                                    "geolocation_lat": "-23.546690486964888",
                                    "geolocation_lng": "-46.635446958807194",
                                    "geolocation_city": "Sao paulo",
                                    "geolocation_state": "Sao-Paulo"
                                },
                                {
                                    "geolocation_zip_code_prefix": "1043",
                                    "geolocation_lat": "-23.546656718016017",
                                    "geolocation_lng": "-46.64078762115524",
                                    "geolocation_city": "Sao paulo",
                                    "geolocation_state": "Sao-Paulo"
                                },
                                {
                                    "geolocation_zip_code_prefix": "1050",
                                    "geolocation_lat": "-23.549773516504185",
                                    "geolocation_lng": "-46.64559900666509",
                                    "geolocation_city": "Sao paulo",
                                    "geolocation_state": "Sao-Paulo"
                                },
                                {
                                    "geolocation_zip_code_prefix": "1045",
                                    "geolocation_lat": "-23.541593762969626",
                                    "geolocation_lng": "-46.64189378810082",
                                    "geolocation_city": "Sao paulo",
                                    "geolocation_state": "Sao-Paulo"
                                },
                                {
                                    "geolocation_zip_code_prefix": "1009",
                                    "geolocation_lat": "-23.545429533441073",
                                    "geolocation_lng": "-46.63571531432852",
                                    "geolocation_city": "Sao paulo",
                                    "geolocation_state": "Sao-Paulo"
                                },
                                {
                                    "geolocation_zip_code_prefix": "1007",
                                    "geolocation_lat": "-23.550392524842728",
                                    "geolocation_lng": "-46.637301640717844",
                                    "geolocation_city": "Sao paulo",
                                    "geolocation_state": "Sao-Paulo"
                                },
                                {
                                    "geolocation_zip_code_prefix": "1032",
                                    "geolocation_lat": "-23.5398418758395",
                                    "geolocation_lng": "-46.63514797691531",
                                    "geolocation_city": "Sao paulo",
                                    "geolocation_state": "Sao-Paulo"
                                },
                                {
                                    "geolocation_zip_code_prefix": "1041",
                                    "geolocation_lat": "-23.543539449073783",
                                    "geolocation_lng": "-46.64057731057763",
                                    "geolocation_city": "Sao paulo",
                                    "geolocation_state": "Sao-Paulo"
                                }
                            ]
                        },
                        "text/html": [
                            "<table>",
                            "<tr><th>geolocation_zip_code_prefix</th><th>geolocation_lat</th><th>geolocation_lng</th><th>geolocation_city</th><th>geolocation_state</th></tr>",
                            "<tr><td>1037</td><td>-23.54562128115268</td><td>-46.63929204800168</td><td>Sao paulo</td><td>Sao-Paulo</td></tr>",
                            "<tr><td>1046</td><td>-23.546081127035535</td><td>-46.64482029837157</td><td>Sao paulo</td><td>Sao-Paulo</td></tr>",
                            "<tr><td>1046</td><td>-23.54612896641469</td><td>-46.64295148361138</td><td>Sao paulo</td><td>Sao-Paulo</td></tr>",
                            "<tr><td>1041</td><td>-23.5443921648681</td><td>-46.63949930627844</td><td>Sao paulo</td><td>Sao-Paulo</td></tr>",
                            "<tr><td>1035</td><td>-23.541577961711493</td><td>-46.64160722329613</td><td>Sao paulo</td><td>Sao-Paulo</td></tr>",
                            "<tr><td>1012</td><td>-23.547762303364266</td><td>-46.63536053788448</td><td>Sao paulo</td><td>Sao-Paulo</td></tr>",
                            "<tr><td>1047</td><td>-23.546273112412678</td><td>-46.64122516971552</td><td>Sao paulo</td><td>Sao-Paulo</td></tr>",
                            "<tr><td>1013</td><td>-23.546923208436723</td><td>-46.6342636964915</td><td>Sao paulo</td><td>Sao-Paulo</td></tr>",
                            "<tr><td>1029</td><td>-23.543769055769133</td><td>-46.63427784085132</td><td>Sao paulo</td><td>Sao-Paulo</td></tr>",
                            "<tr><td>1011</td><td>-23.547639550320632</td><td>-46.63603162315495</td><td>Sao paulo</td><td>Sao-Paulo</td></tr>",
                            "<tr><td>1013</td><td>-23.547325128224376</td><td>-46.63418378613892</td><td>Sao paulo</td><td>Sao-Paulo</td></tr>",
                            "<tr><td>1032</td><td>-23.53841810407414</td><td>-46.634778375266734</td><td>Sao paulo</td><td>Sao-Paulo</td></tr>",
                            "<tr><td>1014</td><td>-23.546435343326205</td><td>-46.63383023397196</td><td>Sao paulo</td><td>Sao-Paulo</td></tr>",
                            "<tr><td>1012</td><td>-23.548945985189434</td><td>-46.63467113292871</td><td>Sao paulo</td><td>Sao-Paulo</td></tr>",
                            "<tr><td>1037</td><td>-23.545187340816042</td><td>-46.63785524104107</td><td>Sao paulo</td><td>Sao-Paulo</td></tr>",
                            "<tr><td>1046</td><td>-23.546081127035535</td><td>-46.64482029837157</td><td>Sao paulo</td><td>Sao-Paulo</td></tr>",
                            "<tr><td>1039</td><td>-23.541883009983316</td><td>-46.63991946670314</td><td>Sao paulo</td><td>Sao-Paulo</td></tr>",
                            "<tr><td>1024</td><td>-23.541389521053937</td><td>-46.629899087812184</td><td>Sao paulo</td><td>Sao-Paulo</td></tr>",
                            "<tr><td>1009</td><td>-23.54693540437998</td><td>-46.63658792659698</td><td>Sao paulo</td><td>Sao-Paulo</td></tr>",
                            "<tr><td>1046</td><td>-23.545884279214015</td><td>-46.643163191240035</td><td>Sao paulo</td><td>Sao-Paulo</td></tr>",
                            "<tr><td>1046</td><td>-23.545165891770928</td><td>-46.643785796266464</td><td>Sao paulo</td><td>Sao-Paulo</td></tr>",
                            "<tr><td>1020</td><td>-23.55223547100232</td><td>-46.6284406588955</td><td>Sao paulo</td><td>Sao-Paulo</td></tr>",
                            "<tr><td>1011</td><td>-23.546690486964888</td><td>-46.635446958807194</td><td>Sao paulo</td><td>Sao-Paulo</td></tr>",
                            "<tr><td>1043</td><td>-23.546656718016017</td><td>-46.64078762115524</td><td>Sao paulo</td><td>Sao-Paulo</td></tr>",
                            "<tr><td>1050</td><td>-23.549773516504185</td><td>-46.64559900666509</td><td>Sao paulo</td><td>Sao-Paulo</td></tr>",
                            "<tr><td>1045</td><td>-23.541593762969626</td><td>-46.64189378810082</td><td>Sao paulo</td><td>Sao-Paulo</td></tr>",
                            "<tr><td>1009</td><td>-23.545429533441073</td><td>-46.63571531432852</td><td>Sao paulo</td><td>Sao-Paulo</td></tr>",
                            "<tr><td>1007</td><td>-23.550392524842728</td><td>-46.637301640717844</td><td>Sao paulo</td><td>Sao-Paulo</td></tr>",
                            "<tr><td>1032</td><td>-23.5398418758395</td><td>-46.63514797691531</td><td>Sao paulo</td><td>Sao-Paulo</td></tr>",
                            "<tr><td>1041</td><td>-23.543539449073783</td><td>-46.64057731057763</td><td>Sao paulo</td><td>Sao-Paulo</td></tr>",
                            "</table>"
                        ]
                    }
                }
            ],
            "execution_count": 7
        },
        {
            "cell_type": "code",
            "source": [
                "-- -- REMOVE ACCENT\r\n",
                "\r\n",
                "-- CREATE FUNCTION [dbo].[RemoveAccentChars] (@p_OriginalString VARCHAR(50))\r\n",
                "-- RETURNS VARCHAR(50) AS\r\n",
                "-- BEGIN\r\n",
                "--   DECLARE @i INT = 1; -- must start from 1, as SubString is 1-based\r\n",
                "--   DECLARE @OriginalString VARCHAR(50) = @p_OriginalString COLLATE SQL_Latin1_General_CP1253_CI_AI;\r\n",
                "--   DECLARE @ModifiedString VARCHAR(50) = '';\r\n",
                "\r\n",
                "--   WHILE @i <= LEN(@OriginalString)\r\n",
                "--   BEGIN\r\n",
                "--     DECLARE @char VARCHAR(1) = SUBSTRING(@OriginalString, @i, 1);\r\n",
                "--     IF @char LIKE '[a-zA-Z]'\r\n",
                "--     BEGIN\r\n",
                "--       SET @ModifiedString = @ModifiedString + @char;\r\n",
                "--     END\r\n",
                "--     ELSE IF @char COLLATE Latin1_General_BIN = ' '\r\n",
                "--     BEGIN\r\n",
                "--       SET @ModifiedString = @ModifiedString + @char;\r\n",
                "--     END\r\n",
                "--     SET @i = @i + 1;\r\n",
                "--   END\r\n",
                "\r\n",
                "--   RETURN @ModifiedString;\r\n",
                "-- END"
            ],
            "metadata": {
                "azdata_cell_guid": "f4539095-ec63-47e0-84ec-d756ee269a57",
                "language": "sql",
                "tags": []
            },
            "outputs": [
                {
                    "output_type": "display_data",
                    "data": {
                        "text/html": "Commands completed successfully."
                    },
                    "metadata": {}
                },
                {
                    "output_type": "display_data",
                    "data": {
                        "text/html": "Total execution time: 00:00:00"
                    },
                    "metadata": {}
                }
            ],
            "execution_count": 8
        },
        {
            "cell_type": "code",
            "source": [
                "-- UPDATE [OlistBusiness].[dbo].[olist_geolocation_dataset]\r\n",
                "-- SET [geolocation_city] = TRIM(dbo.RemoveAccentChars([geolocation_city]))"
            ],
            "metadata": {
                "language": "sql",
                "azdata_cell_guid": "5981aa8f-d9f3-4860-9375-3830e996c2f3",
                "tags": []
            },
            "outputs": [
                {
                    "output_type": "display_data",
                    "data": {
                        "text/html": "Commands completed successfully."
                    },
                    "metadata": {}
                },
                {
                    "output_type": "display_data",
                    "data": {
                        "text/html": "Total execution time: 00:00:00.002"
                    },
                    "metadata": {}
                }
            ],
            "execution_count": 9
        },
        {
            "cell_type": "code",
            "source": [
                "-- -- Capitalize the Geolocation City column\r\n",
                "-- UPDATE [OlistBusiness].[dbo].[olist_geolocation_dataset]\r\n",
                "-- SET [geolocation_city] = CONCAT(UPPER(LEFT([geolocation_city],1)), LOWER(RIGHT([geolocation_city], LEN([geolocation_city])-1)))\r\n",
                "\r\n",
                "-- -- -- Change to Full Country Names\r\n",
                "-- UPDATE [OlistBusiness].[dbo].[olist_geolocation_dataset]\r\n",
                "-- SET [geolocation_state] = dbo.GetFullCountryName([geolocation_state])"
            ],
            "metadata": {
                "azdata_cell_guid": "e3b99847-c9a1-449f-9f12-bff7e8aa201d",
                "language": "sql",
                "tags": []
            },
            "outputs": [
                {
                    "output_type": "display_data",
                    "data": {
                        "text/html": "Commands completed successfully."
                    },
                    "metadata": {}
                },
                {
                    "output_type": "display_data",
                    "data": {
                        "text/html": "Total execution time: 00:00:00"
                    },
                    "metadata": {}
                }
            ],
            "execution_count": 10
        },
        {
            "cell_type": "code",
            "source": [
                "SELECT TOP(30) * \r\n",
                "FROM  [OlistBusiness].[dbo].[olist_geolocation_dataset]"
            ],
            "metadata": {
                "language": "sql",
                "azdata_cell_guid": "a4d6feee-0f45-4349-81ba-fd7ad70e6880",
                "tags": []
            },
            "outputs": [
                {
                    "output_type": "display_data",
                    "data": {
                        "text/html": "(30 rows affected)"
                    },
                    "metadata": {}
                },
                {
                    "output_type": "display_data",
                    "data": {
                        "text/html": "Total execution time: 00:00:00.020"
                    },
                    "metadata": {}
                },
                {
                    "output_type": "execute_result",
                    "metadata": {},
                    "execution_count": 11,
                    "data": {
                        "application/vnd.dataresource+json": {
                            "schema": {
                                "fields": [
                                    {
                                        "name": "geolocation_zip_code_prefix"
                                    },
                                    {
                                        "name": "geolocation_lat"
                                    },
                                    {
                                        "name": "geolocation_lng"
                                    },
                                    {
                                        "name": "geolocation_city"
                                    },
                                    {
                                        "name": "geolocation_state"
                                    }
                                ]
                            },
                            "data": [
                                {
                                    "geolocation_zip_code_prefix": "1037",
                                    "geolocation_lat": "-23.54562128115268",
                                    "geolocation_lng": "-46.63929204800168",
                                    "geolocation_city": "Sao paulo",
                                    "geolocation_state": "Sao-Paulo"
                                },
                                {
                                    "geolocation_zip_code_prefix": "1046",
                                    "geolocation_lat": "-23.546081127035535",
                                    "geolocation_lng": "-46.64482029837157",
                                    "geolocation_city": "Sao paulo",
                                    "geolocation_state": "Sao-Paulo"
                                },
                                {
                                    "geolocation_zip_code_prefix": "1046",
                                    "geolocation_lat": "-23.54612896641469",
                                    "geolocation_lng": "-46.64295148361138",
                                    "geolocation_city": "Sao paulo",
                                    "geolocation_state": "Sao-Paulo"
                                },
                                {
                                    "geolocation_zip_code_prefix": "1041",
                                    "geolocation_lat": "-23.5443921648681",
                                    "geolocation_lng": "-46.63949930627844",
                                    "geolocation_city": "Sao paulo",
                                    "geolocation_state": "Sao-Paulo"
                                },
                                {
                                    "geolocation_zip_code_prefix": "1035",
                                    "geolocation_lat": "-23.541577961711493",
                                    "geolocation_lng": "-46.64160722329613",
                                    "geolocation_city": "Sao paulo",
                                    "geolocation_state": "Sao-Paulo"
                                },
                                {
                                    "geolocation_zip_code_prefix": "1012",
                                    "geolocation_lat": "-23.547762303364266",
                                    "geolocation_lng": "-46.63536053788448",
                                    "geolocation_city": "Sao paulo",
                                    "geolocation_state": "Sao-Paulo"
                                },
                                {
                                    "geolocation_zip_code_prefix": "1047",
                                    "geolocation_lat": "-23.546273112412678",
                                    "geolocation_lng": "-46.64122516971552",
                                    "geolocation_city": "Sao paulo",
                                    "geolocation_state": "Sao-Paulo"
                                },
                                {
                                    "geolocation_zip_code_prefix": "1013",
                                    "geolocation_lat": "-23.546923208436723",
                                    "geolocation_lng": "-46.6342636964915",
                                    "geolocation_city": "Sao paulo",
                                    "geolocation_state": "Sao-Paulo"
                                },
                                {
                                    "geolocation_zip_code_prefix": "1029",
                                    "geolocation_lat": "-23.543769055769133",
                                    "geolocation_lng": "-46.63427784085132",
                                    "geolocation_city": "Sao paulo",
                                    "geolocation_state": "Sao-Paulo"
                                },
                                {
                                    "geolocation_zip_code_prefix": "1011",
                                    "geolocation_lat": "-23.547639550320632",
                                    "geolocation_lng": "-46.63603162315495",
                                    "geolocation_city": "Sao paulo",
                                    "geolocation_state": "Sao-Paulo"
                                },
                                {
                                    "geolocation_zip_code_prefix": "1013",
                                    "geolocation_lat": "-23.547325128224376",
                                    "geolocation_lng": "-46.63418378613892",
                                    "geolocation_city": "Sao paulo",
                                    "geolocation_state": "Sao-Paulo"
                                },
                                {
                                    "geolocation_zip_code_prefix": "1032",
                                    "geolocation_lat": "-23.53841810407414",
                                    "geolocation_lng": "-46.634778375266734",
                                    "geolocation_city": "Sao paulo",
                                    "geolocation_state": "Sao-Paulo"
                                },
                                {
                                    "geolocation_zip_code_prefix": "1014",
                                    "geolocation_lat": "-23.546435343326205",
                                    "geolocation_lng": "-46.63383023397196",
                                    "geolocation_city": "Sao paulo",
                                    "geolocation_state": "Sao-Paulo"
                                },
                                {
                                    "geolocation_zip_code_prefix": "1012",
                                    "geolocation_lat": "-23.548945985189434",
                                    "geolocation_lng": "-46.63467113292871",
                                    "geolocation_city": "Sao paulo",
                                    "geolocation_state": "Sao-Paulo"
                                },
                                {
                                    "geolocation_zip_code_prefix": "1037",
                                    "geolocation_lat": "-23.545187340816042",
                                    "geolocation_lng": "-46.63785524104107",
                                    "geolocation_city": "Sao paulo",
                                    "geolocation_state": "Sao-Paulo"
                                },
                                {
                                    "geolocation_zip_code_prefix": "1046",
                                    "geolocation_lat": "-23.546081127035535",
                                    "geolocation_lng": "-46.64482029837157",
                                    "geolocation_city": "Sao paulo",
                                    "geolocation_state": "Sao-Paulo"
                                },
                                {
                                    "geolocation_zip_code_prefix": "1039",
                                    "geolocation_lat": "-23.541883009983316",
                                    "geolocation_lng": "-46.63991946670314",
                                    "geolocation_city": "Sao paulo",
                                    "geolocation_state": "Sao-Paulo"
                                },
                                {
                                    "geolocation_zip_code_prefix": "1024",
                                    "geolocation_lat": "-23.541389521053937",
                                    "geolocation_lng": "-46.629899087812184",
                                    "geolocation_city": "Sao paulo",
                                    "geolocation_state": "Sao-Paulo"
                                },
                                {
                                    "geolocation_zip_code_prefix": "1009",
                                    "geolocation_lat": "-23.54693540437998",
                                    "geolocation_lng": "-46.63658792659698",
                                    "geolocation_city": "Sao paulo",
                                    "geolocation_state": "Sao-Paulo"
                                },
                                {
                                    "geolocation_zip_code_prefix": "1046",
                                    "geolocation_lat": "-23.545884279214015",
                                    "geolocation_lng": "-46.643163191240035",
                                    "geolocation_city": "Sao paulo",
                                    "geolocation_state": "Sao-Paulo"
                                },
                                {
                                    "geolocation_zip_code_prefix": "1046",
                                    "geolocation_lat": "-23.545165891770928",
                                    "geolocation_lng": "-46.643785796266464",
                                    "geolocation_city": "Sao paulo",
                                    "geolocation_state": "Sao-Paulo"
                                },
                                {
                                    "geolocation_zip_code_prefix": "1020",
                                    "geolocation_lat": "-23.55223547100232",
                                    "geolocation_lng": "-46.6284406588955",
                                    "geolocation_city": "Sao paulo",
                                    "geolocation_state": "Sao-Paulo"
                                },
                                {
                                    "geolocation_zip_code_prefix": "1011",
                                    "geolocation_lat": "-23.546690486964888",
                                    "geolocation_lng": "-46.635446958807194",
                                    "geolocation_city": "Sao paulo",
                                    "geolocation_state": "Sao-Paulo"
                                },
                                {
                                    "geolocation_zip_code_prefix": "1043",
                                    "geolocation_lat": "-23.546656718016017",
                                    "geolocation_lng": "-46.64078762115524",
                                    "geolocation_city": "Sao paulo",
                                    "geolocation_state": "Sao-Paulo"
                                },
                                {
                                    "geolocation_zip_code_prefix": "1050",
                                    "geolocation_lat": "-23.549773516504185",
                                    "geolocation_lng": "-46.64559900666509",
                                    "geolocation_city": "Sao paulo",
                                    "geolocation_state": "Sao-Paulo"
                                },
                                {
                                    "geolocation_zip_code_prefix": "1045",
                                    "geolocation_lat": "-23.541593762969626",
                                    "geolocation_lng": "-46.64189378810082",
                                    "geolocation_city": "Sao paulo",
                                    "geolocation_state": "Sao-Paulo"
                                },
                                {
                                    "geolocation_zip_code_prefix": "1009",
                                    "geolocation_lat": "-23.545429533441073",
                                    "geolocation_lng": "-46.63571531432852",
                                    "geolocation_city": "Sao paulo",
                                    "geolocation_state": "Sao-Paulo"
                                },
                                {
                                    "geolocation_zip_code_prefix": "1007",
                                    "geolocation_lat": "-23.550392524842728",
                                    "geolocation_lng": "-46.637301640717844",
                                    "geolocation_city": "Sao paulo",
                                    "geolocation_state": "Sao-Paulo"
                                },
                                {
                                    "geolocation_zip_code_prefix": "1032",
                                    "geolocation_lat": "-23.5398418758395",
                                    "geolocation_lng": "-46.63514797691531",
                                    "geolocation_city": "Sao paulo",
                                    "geolocation_state": "Sao-Paulo"
                                },
                                {
                                    "geolocation_zip_code_prefix": "1041",
                                    "geolocation_lat": "-23.543539449073783",
                                    "geolocation_lng": "-46.64057731057763",
                                    "geolocation_city": "Sao paulo",
                                    "geolocation_state": "Sao-Paulo"
                                }
                            ]
                        },
                        "text/html": [
                            "<table>",
                            "<tr><th>geolocation_zip_code_prefix</th><th>geolocation_lat</th><th>geolocation_lng</th><th>geolocation_city</th><th>geolocation_state</th></tr>",
                            "<tr><td>1037</td><td>-23.54562128115268</td><td>-46.63929204800168</td><td>Sao paulo</td><td>Sao-Paulo</td></tr>",
                            "<tr><td>1046</td><td>-23.546081127035535</td><td>-46.64482029837157</td><td>Sao paulo</td><td>Sao-Paulo</td></tr>",
                            "<tr><td>1046</td><td>-23.54612896641469</td><td>-46.64295148361138</td><td>Sao paulo</td><td>Sao-Paulo</td></tr>",
                            "<tr><td>1041</td><td>-23.5443921648681</td><td>-46.63949930627844</td><td>Sao paulo</td><td>Sao-Paulo</td></tr>",
                            "<tr><td>1035</td><td>-23.541577961711493</td><td>-46.64160722329613</td><td>Sao paulo</td><td>Sao-Paulo</td></tr>",
                            "<tr><td>1012</td><td>-23.547762303364266</td><td>-46.63536053788448</td><td>Sao paulo</td><td>Sao-Paulo</td></tr>",
                            "<tr><td>1047</td><td>-23.546273112412678</td><td>-46.64122516971552</td><td>Sao paulo</td><td>Sao-Paulo</td></tr>",
                            "<tr><td>1013</td><td>-23.546923208436723</td><td>-46.6342636964915</td><td>Sao paulo</td><td>Sao-Paulo</td></tr>",
                            "<tr><td>1029</td><td>-23.543769055769133</td><td>-46.63427784085132</td><td>Sao paulo</td><td>Sao-Paulo</td></tr>",
                            "<tr><td>1011</td><td>-23.547639550320632</td><td>-46.63603162315495</td><td>Sao paulo</td><td>Sao-Paulo</td></tr>",
                            "<tr><td>1013</td><td>-23.547325128224376</td><td>-46.63418378613892</td><td>Sao paulo</td><td>Sao-Paulo</td></tr>",
                            "<tr><td>1032</td><td>-23.53841810407414</td><td>-46.634778375266734</td><td>Sao paulo</td><td>Sao-Paulo</td></tr>",
                            "<tr><td>1014</td><td>-23.546435343326205</td><td>-46.63383023397196</td><td>Sao paulo</td><td>Sao-Paulo</td></tr>",
                            "<tr><td>1012</td><td>-23.548945985189434</td><td>-46.63467113292871</td><td>Sao paulo</td><td>Sao-Paulo</td></tr>",
                            "<tr><td>1037</td><td>-23.545187340816042</td><td>-46.63785524104107</td><td>Sao paulo</td><td>Sao-Paulo</td></tr>",
                            "<tr><td>1046</td><td>-23.546081127035535</td><td>-46.64482029837157</td><td>Sao paulo</td><td>Sao-Paulo</td></tr>",
                            "<tr><td>1039</td><td>-23.541883009983316</td><td>-46.63991946670314</td><td>Sao paulo</td><td>Sao-Paulo</td></tr>",
                            "<tr><td>1024</td><td>-23.541389521053937</td><td>-46.629899087812184</td><td>Sao paulo</td><td>Sao-Paulo</td></tr>",
                            "<tr><td>1009</td><td>-23.54693540437998</td><td>-46.63658792659698</td><td>Sao paulo</td><td>Sao-Paulo</td></tr>",
                            "<tr><td>1046</td><td>-23.545884279214015</td><td>-46.643163191240035</td><td>Sao paulo</td><td>Sao-Paulo</td></tr>",
                            "<tr><td>1046</td><td>-23.545165891770928</td><td>-46.643785796266464</td><td>Sao paulo</td><td>Sao-Paulo</td></tr>",
                            "<tr><td>1020</td><td>-23.55223547100232</td><td>-46.6284406588955</td><td>Sao paulo</td><td>Sao-Paulo</td></tr>",
                            "<tr><td>1011</td><td>-23.546690486964888</td><td>-46.635446958807194</td><td>Sao paulo</td><td>Sao-Paulo</td></tr>",
                            "<tr><td>1043</td><td>-23.546656718016017</td><td>-46.64078762115524</td><td>Sao paulo</td><td>Sao-Paulo</td></tr>",
                            "<tr><td>1050</td><td>-23.549773516504185</td><td>-46.64559900666509</td><td>Sao paulo</td><td>Sao-Paulo</td></tr>",
                            "<tr><td>1045</td><td>-23.541593762969626</td><td>-46.64189378810082</td><td>Sao paulo</td><td>Sao-Paulo</td></tr>",
                            "<tr><td>1009</td><td>-23.545429533441073</td><td>-46.63571531432852</td><td>Sao paulo</td><td>Sao-Paulo</td></tr>",
                            "<tr><td>1007</td><td>-23.550392524842728</td><td>-46.637301640717844</td><td>Sao paulo</td><td>Sao-Paulo</td></tr>",
                            "<tr><td>1032</td><td>-23.5398418758395</td><td>-46.63514797691531</td><td>Sao paulo</td><td>Sao-Paulo</td></tr>",
                            "<tr><td>1041</td><td>-23.543539449073783</td><td>-46.64057731057763</td><td>Sao paulo</td><td>Sao-Paulo</td></tr>",
                            "</table>"
                        ]
                    }
                }
            ],
            "execution_count": 11
        },
        {
            "cell_type": "code",
            "source": [
                "-- Check for Missing Data across every column\r\n",
                "\r\n",
                "SELECT \r\n",
                "    SUM(CASE WHEN [geolocation_zip_code_prefix] IS NULL THEN 1 ELSE 0 END) AS geolocation_zip_code_prefix_missing_values,\r\n",
                "    SUM(CASE WHEN [geolocation_lat] IS NULL THEN 1 ELSE 0 END) AS geolocation_lat_missing_values,\r\n",
                "    SUM(CASE WHEN [geolocation_lng] IS NULL THEN 1 ELSE 0 END) AS geolocation_lng_missing_values,\r\n",
                "    SUM(CASE WHEN [geolocation_state] IS NULL THEN 1 ELSE 0 END) AS geolocation_state_missing_values,\r\n",
                "    SUM(CASE WHEN [geolocation_city] IS NULL THEN 1 ELSE 0 END) AS geolocation_city_missing_values\r\n",
                "FROM \r\n",
                "    [OlistBusiness].[dbo].[olist_geolocation_dataset];"
            ],
            "metadata": {
                "azdata_cell_guid": "2810e943-2140-4b37-a763-f63aed0d24fd",
                "language": "sql",
                "tags": []
            },
            "outputs": [
                {
                    "output_type": "display_data",
                    "data": {
                        "text/html": "(1 row affected)"
                    },
                    "metadata": {}
                },
                {
                    "output_type": "display_data",
                    "data": {
                        "text/html": "Total execution time: 00:00:04.202"
                    },
                    "metadata": {}
                },
                {
                    "output_type": "execute_result",
                    "metadata": {},
                    "execution_count": 12,
                    "data": {
                        "application/vnd.dataresource+json": {
                            "schema": {
                                "fields": [
                                    {
                                        "name": "geolocation_zip_code_prefix_missing_values"
                                    },
                                    {
                                        "name": "geolocation_lat_missing_values"
                                    },
                                    {
                                        "name": "geolocation_lng_missing_values"
                                    },
                                    {
                                        "name": "geolocation_state_missing_values"
                                    },
                                    {
                                        "name": "geolocation_city_missing_values"
                                    }
                                ]
                            },
                            "data": [
                                {
                                    "geolocation_zip_code_prefix_missing_values": "0",
                                    "geolocation_lat_missing_values": "0",
                                    "geolocation_lng_missing_values": "0",
                                    "geolocation_state_missing_values": "0",
                                    "geolocation_city_missing_values": "0"
                                }
                            ]
                        },
                        "text/html": [
                            "<table>",
                            "<tr><th>geolocation_zip_code_prefix_missing_values</th><th>geolocation_lat_missing_values</th><th>geolocation_lng_missing_values</th><th>geolocation_state_missing_values</th><th>geolocation_city_missing_values</th></tr>",
                            "<tr><td>0</td><td>0</td><td>0</td><td>0</td><td>0</td></tr>",
                            "</table>"
                        ]
                    }
                }
            ],
            "execution_count": 12
        },
        {
            "cell_type": "markdown",
            "source": [
                "## GENERAL CHECK FOR OTHER TABLES\n",
                "\n",
                "### Check for Missing Data across every column"
            ],
            "metadata": {
                "language": "sql",
                "azdata_cell_guid": "bb342776-9643-4b4f-b81b-58fd10719b1b"
            },
            "attachments": {}
        },
        {
            "cell_type": "code",
            "source": [
                "SELECT \r\n",
                "    SUM(CASE WHEN [order_id] IS NULL THEN 1 ELSE 0 END) AS order_id,\r\n",
                "    SUM(CASE WHEN [order_item_id] IS NULL THEN 1 ELSE 0 END) AS order_item_id,\r\n",
                "    SUM(CASE WHEN [product_id] IS NULL THEN 1 ELSE 0 END) AS product_id,\r\n",
                "    SUM(CASE WHEN [seller_id] IS NULL THEN 1 ELSE 0 END) AS seller_id,\r\n",
                "    SUM(CASE WHEN [shipping_limit_date] IS NULL THEN 1 ELSE 0 END) AS shipping_limit_date,\r\n",
                "    SUM(CASE WHEN [price] IS NULL THEN 1 ELSE 0 END) AS price,\r\n",
                "    SUM(CASE WHEN [freight_value] IS NULL THEN 1 ELSE 0 END) AS freight_value\r\n",
                "FROM \r\n",
                "    [OlistBusiness].[dbo].[olist_order_items_dataset];\r\n",
                "SELECT \r\n",
                "    SUM(CASE WHEN [order_id] IS NULL THEN 1 ELSE 0 END) AS order_id,\r\n",
                "    SUM(CASE WHEN [order_id] IS NULL THEN 1 ELSE 0 END) AS order_id,\r\n",
                "    SUM(CASE WHEN [payment_type] IS NULL THEN 1 ELSE 0 END) AS payment_type,\r\n",
                "    SUM(CASE WHEN [payment_installments] IS NULL THEN 1 ELSE 0 END) AS payment_installments,\r\n",
                "    SUM(CASE WHEN [payment_value] IS NULL THEN 1 ELSE 0 END) AS payment_value\r\n",
                "FROM \r\n",
                "    [OlistBusiness].[dbo].[olist_order_payments_dataset];\r\n",
                "SELECT \r\n",
                "    SUM(CASE WHEN [review_id] IS NULL THEN 1 ELSE 0 END) AS review_id,\r\n",
                "    SUM(CASE WHEN [order_id] IS NULL THEN 1 ELSE 0 END) AS order_id,\r\n",
                "    SUM(CASE WHEN [review_score] IS NULL THEN 1 ELSE 0 END) AS review_score,\r\n",
                "    -- SUM(CASE WHEN [review_comment_title] IS NULL THEN 1 ELSE 0 END) AS review_comment_title,\r\n",
                "    SUM(CASE WHEN [review_comment_message] IS NULL THEN 1 ELSE 0 END) AS review_comment_message,\r\n",
                "    SUM(CASE WHEN [review_creation_date] IS NULL THEN 1 ELSE 0 END) AS review_creation_date,\r\n",
                "    SUM(CASE WHEN [review_answer_timestamp] IS NULL THEN 1 ELSE 0 END) AS review_answer_timestamp\r\n",
                "FROM \r\n",
                "    [OlistBusiness].[dbo].[olist_order_reviews_dataset];\r\n",
                "SELECT \r\n",
                "    SUM(CASE WHEN [order_id] IS NULL THEN 1 ELSE 0 END) AS order_id,\r\n",
                "    SUM(CASE WHEN [customer_id] IS NULL THEN 1 ELSE 0 END) AS customer_id,\r\n",
                "    SUM(CASE WHEN [order_status] IS NULL THEN 1 ELSE 0 END) AS order_status,\r\n",
                "    SUM(CASE WHEN [order_purchase_timestamp] IS NULL THEN 1 ELSE 0 END) AS order_purchase_timestamp,\r\n",
                "    SUM(CASE WHEN [order_approved_at] IS NULL THEN 1 ELSE 0 END) AS order_approved_at,\r\n",
                "    SUM(CASE WHEN [order_delivered_carrier_date] IS NULL THEN 1 ELSE 0 END) AS order_delivered_carrier_date,\r\n",
                "    SUM(CASE WHEN [order_delivered_customer_date] IS NULL THEN 1 ELSE 0 END) AS order_delivered_customer_date,\r\n",
                "    SUM(CASE WHEN [order_estimated_delivery_date] IS NULL THEN 1 ELSE 0 END) AS order_estimated_delivery_date\r\n",
                "FROM \r\n",
                "    [OlistBusiness].[dbo].[olist_orders_dataset];\r\n",
                "SELECT \r\n",
                "    SUM(CASE WHEN [product_id] IS NULL THEN 1 ELSE 0 END) AS product_id,\r\n",
                "    SUM(CASE WHEN [product_category_name] IS NULL THEN 1 ELSE 0 END) AS product_category_name,\r\n",
                "    SUM(CASE WHEN [product_name_lenght] IS NULL THEN 1 ELSE 0 END) AS product_name_lenght,\r\n",
                "    SUM(CASE WHEN [product_description_lenght] IS NULL THEN 1 ELSE 0 END) AS product_description_lenght,\r\n",
                "    SUM(CASE WHEN [product_photos_qty] IS NULL THEN 1 ELSE 0 END) AS product_photos_qty,\r\n",
                "    SUM(CASE WHEN [product_weight_g] IS NULL THEN 1 ELSE 0 END) AS product_weight_g,\r\n",
                "    SUM(CASE WHEN [product_length_cm] IS NULL THEN 1 ELSE 0 END) AS product_length_cm,\r\n",
                "    SUM(CASE WHEN [product_height_cm] IS NULL THEN 1 ELSE 0 END) AS product_height_cm,\r\n",
                "    SUM(CASE WHEN [product_width_cm] IS NULL THEN 1 ELSE 0 END) AS product_width_cm\r\n",
                "FROM \r\n",
                "    [OlistBusiness].[dbo].[olist_products_dataset];\r\n",
                "SELECT \r\n",
                "    SUM(CASE WHEN [seller_id] IS NULL THEN 1 ELSE 0 END) AS seller_id,\r\n",
                "    SUM(CASE WHEN [seller_zip_code_prefix] IS NULL THEN 1 ELSE 0 END) AS seller_zip_code_prefix,\r\n",
                "    SUM(CASE WHEN [seller_city] IS NULL THEN 1 ELSE 0 END) AS seller_city,\r\n",
                "    SUM(CASE WHEN [seller_state] IS NULL THEN 1 ELSE 0 END) AS seller_state\r\n",
                "FROM \r\n",
                "    [OlistBusiness].[dbo].[olist_sellers_dataset];\r\n",
                "SELECT \r\n",
                "    SUM(CASE WHEN [product_category_name] IS NULL THEN 1 ELSE 0 END) AS product_category_name,\r\n",
                "    SUM(CASE WHEN [product_category_name_english] IS NULL THEN 1 ELSE 0 END) AS product_category_name_english\r\n",
                "FROM \r\n",
                "    [OlistBusiness].[dbo].[product_category_name_translation];"
            ],
            "metadata": {
                "language": "sql",
                "azdata_cell_guid": "9f64d505-7c3c-461e-bd41-c727e1f3e7fb",
                "tags": []
            },
            "outputs": [
                {
                    "output_type": "display_data",
                    "data": {
                        "text/html": "(1 row affected)"
                    },
                    "metadata": {}
                },
                {
                    "output_type": "display_data",
                    "data": {
                        "text/html": "(1 row affected)"
                    },
                    "metadata": {}
                },
                {
                    "output_type": "display_data",
                    "data": {
                        "text/html": "(1 row affected)"
                    },
                    "metadata": {}
                },
                {
                    "output_type": "display_data",
                    "data": {
                        "text/html": "(1 row affected)"
                    },
                    "metadata": {}
                },
                {
                    "output_type": "display_data",
                    "data": {
                        "text/html": "(1 row affected)"
                    },
                    "metadata": {}
                },
                {
                    "output_type": "display_data",
                    "data": {
                        "text/html": "(1 row affected)"
                    },
                    "metadata": {}
                },
                {
                    "output_type": "display_data",
                    "data": {
                        "text/html": "(1 row affected)"
                    },
                    "metadata": {}
                },
                {
                    "output_type": "display_data",
                    "data": {
                        "text/html": "Total execution time: 00:00:01.803"
                    },
                    "metadata": {}
                },
                {
                    "output_type": "execute_result",
                    "metadata": {},
                    "execution_count": 13,
                    "data": {
                        "application/vnd.dataresource+json": {
                            "schema": {
                                "fields": [
                                    {
                                        "name": "order_id"
                                    },
                                    {
                                        "name": "order_item_id"
                                    },
                                    {
                                        "name": "product_id"
                                    },
                                    {
                                        "name": "seller_id"
                                    },
                                    {
                                        "name": "shipping_limit_date"
                                    },
                                    {
                                        "name": "price"
                                    },
                                    {
                                        "name": "freight_value"
                                    }
                                ]
                            },
                            "data": [
                                {
                                    "order_id": "0",
                                    "order_item_id": "0",
                                    "product_id": "0",
                                    "seller_id": "0",
                                    "shipping_limit_date": "0",
                                    "price": "0",
                                    "freight_value": "0"
                                }
                            ]
                        },
                        "text/html": [
                            "<table>",
                            "<tr><th>order_id</th><th>order_item_id</th><th>product_id</th><th>seller_id</th><th>shipping_limit_date</th><th>price</th><th>freight_value</th></tr>",
                            "<tr><td>0</td><td>0</td><td>0</td><td>0</td><td>0</td><td>0</td><td>0</td></tr>",
                            "</table>"
                        ]
                    }
                },
                {
                    "output_type": "execute_result",
                    "metadata": {},
                    "execution_count": 13,
                    "data": {
                        "application/vnd.dataresource+json": {
                            "schema": {
                                "fields": [
                                    {
                                        "name": "order_id"
                                    },
                                    {
                                        "name": "order_id"
                                    },
                                    {
                                        "name": "payment_type"
                                    },
                                    {
                                        "name": "payment_installments"
                                    },
                                    {
                                        "name": "payment_value"
                                    }
                                ]
                            },
                            "data": [
                                {
                                    "order_id": "0",
                                    "payment_type": "0",
                                    "payment_installments": "0",
                                    "payment_value": "0"
                                }
                            ]
                        },
                        "text/html": [
                            "<table>",
                            "<tr><th>order_id</th><th>order_id</th><th>payment_type</th><th>payment_installments</th><th>payment_value</th></tr>",
                            "<tr><td>0</td><td>0</td><td>0</td><td>0</td><td>0</td></tr>",
                            "</table>"
                        ]
                    }
                },
                {
                    "output_type": "execute_result",
                    "metadata": {},
                    "execution_count": 13,
                    "data": {
                        "application/vnd.dataresource+json": {
                            "schema": {
                                "fields": [
                                    {
                                        "name": "review_id"
                                    },
                                    {
                                        "name": "order_id"
                                    },
                                    {
                                        "name": "review_score"
                                    },
                                    {
                                        "name": "review_comment_message"
                                    },
                                    {
                                        "name": "review_creation_date"
                                    },
                                    {
                                        "name": "review_answer_timestamp"
                                    }
                                ]
                            },
                            "data": [
                                {
                                    "review_id": "0",
                                    "order_id": "0",
                                    "review_score": "0",
                                    "review_comment_message": "58254",
                                    "review_creation_date": "0",
                                    "review_answer_timestamp": "0"
                                }
                            ]
                        },
                        "text/html": [
                            "<table>",
                            "<tr><th>review_id</th><th>order_id</th><th>review_score</th><th>review_comment_message</th><th>review_creation_date</th><th>review_answer_timestamp</th></tr>",
                            "<tr><td>0</td><td>0</td><td>0</td><td>58254</td><td>0</td><td>0</td></tr>",
                            "</table>"
                        ]
                    }
                },
                {
                    "output_type": "execute_result",
                    "metadata": {},
                    "execution_count": 13,
                    "data": {
                        "application/vnd.dataresource+json": {
                            "schema": {
                                "fields": [
                                    {
                                        "name": "order_id"
                                    },
                                    {
                                        "name": "customer_id"
                                    },
                                    {
                                        "name": "order_status"
                                    },
                                    {
                                        "name": "order_purchase_timestamp"
                                    },
                                    {
                                        "name": "order_approved_at"
                                    },
                                    {
                                        "name": "order_delivered_carrier_date"
                                    },
                                    {
                                        "name": "order_delivered_customer_date"
                                    },
                                    {
                                        "name": "order_estimated_delivery_date"
                                    }
                                ]
                            },
                            "data": [
                                {
                                    "order_id": "0",
                                    "customer_id": "0",
                                    "order_status": "0",
                                    "order_purchase_timestamp": "0",
                                    "order_approved_at": "160",
                                    "order_delivered_carrier_date": "1783",
                                    "order_delivered_customer_date": "2965",
                                    "order_estimated_delivery_date": "0"
                                }
                            ]
                        },
                        "text/html": [
                            "<table>",
                            "<tr><th>order_id</th><th>customer_id</th><th>order_status</th><th>order_purchase_timestamp</th><th>order_approved_at</th><th>order_delivered_carrier_date</th><th>order_delivered_customer_date</th><th>order_estimated_delivery_date</th></tr>",
                            "<tr><td>0</td><td>0</td><td>0</td><td>0</td><td>160</td><td>1783</td><td>2965</td><td>0</td></tr>",
                            "</table>"
                        ]
                    }
                },
                {
                    "output_type": "execute_result",
                    "metadata": {},
                    "execution_count": 13,
                    "data": {
                        "application/vnd.dataresource+json": {
                            "schema": {
                                "fields": [
                                    {
                                        "name": "product_id"
                                    },
                                    {
                                        "name": "product_category_name"
                                    },
                                    {
                                        "name": "product_name_lenght"
                                    },
                                    {
                                        "name": "product_description_lenght"
                                    },
                                    {
                                        "name": "product_photos_qty"
                                    },
                                    {
                                        "name": "product_weight_g"
                                    },
                                    {
                                        "name": "product_length_cm"
                                    },
                                    {
                                        "name": "product_height_cm"
                                    },
                                    {
                                        "name": "product_width_cm"
                                    }
                                ]
                            },
                            "data": [
                                {
                                    "product_id": "0",
                                    "product_category_name": "0",
                                    "product_name_lenght": "0",
                                    "product_description_lenght": "0",
                                    "product_photos_qty": "0",
                                    "product_weight_g": "0",
                                    "product_length_cm": "0",
                                    "product_height_cm": "0",
                                    "product_width_cm": "0"
                                }
                            ]
                        },
                        "text/html": [
                            "<table>",
                            "<tr><th>product_id</th><th>product_category_name</th><th>product_name_lenght</th><th>product_description_lenght</th><th>product_photos_qty</th><th>product_weight_g</th><th>product_length_cm</th><th>product_height_cm</th><th>product_width_cm</th></tr>",
                            "<tr><td>0</td><td>0</td><td>0</td><td>0</td><td>0</td><td>0</td><td>0</td><td>0</td><td>0</td></tr>",
                            "</table>"
                        ]
                    }
                },
                {
                    "output_type": "execute_result",
                    "metadata": {},
                    "execution_count": 13,
                    "data": {
                        "application/vnd.dataresource+json": {
                            "schema": {
                                "fields": [
                                    {
                                        "name": "seller_id"
                                    },
                                    {
                                        "name": "seller_zip_code_prefix"
                                    },
                                    {
                                        "name": "seller_city"
                                    },
                                    {
                                        "name": "seller_state"
                                    }
                                ]
                            },
                            "data": [
                                {
                                    "seller_id": "0",
                                    "seller_zip_code_prefix": "0",
                                    "seller_city": "0",
                                    "seller_state": "0"
                                }
                            ]
                        },
                        "text/html": [
                            "<table>",
                            "<tr><th>seller_id</th><th>seller_zip_code_prefix</th><th>seller_city</th><th>seller_state</th></tr>",
                            "<tr><td>0</td><td>0</td><td>0</td><td>0</td></tr>",
                            "</table>"
                        ]
                    }
                },
                {
                    "output_type": "execute_result",
                    "metadata": {},
                    "execution_count": 13,
                    "data": {
                        "application/vnd.dataresource+json": {
                            "schema": {
                                "fields": [
                                    {
                                        "name": "product_category_name"
                                    },
                                    {
                                        "name": "product_category_name_english"
                                    }
                                ]
                            },
                            "data": [
                                {
                                    "product_category_name": "0",
                                    "product_category_name_english": "0"
                                }
                            ]
                        },
                        "text/html": [
                            "<table>",
                            "<tr><th>product_category_name</th><th>product_category_name_english</th></tr>",
                            "<tr><td>0</td><td>0</td></tr>",
                            "</table>"
                        ]
                    }
                }
            ],
            "execution_count": 13
        },
        {
            "cell_type": "markdown",
            "source": [
                " **order\\_reviewsorder\\_reviews, <span style=\"color: rgb(255, 255, 255); font-family: Consolas, &quot;Courier New&quot;, monospace; font-size: 12px; white-space: pre;\">orders_dataset, and </span> <span style=\"color: rgb(255, 255, 255); font-family: Consolas, &quot;Courier New&quot;, monospace; font-size: 12px; white-space: pre;\">olist_products_dataset have Null Values</span>**"
            ],
            "metadata": {
                "azdata_cell_guid": "6ef93fd1-22e0-4535-8512-075b6df0d38a",
                "language": ""
            },
            "attachments": {}
        },
        {
            "cell_type": "markdown",
            "source": [
                "## **PRODUCT TABLE CLEANING**"
            ],
            "metadata": {
                "azdata_cell_guid": "cb20e155-1101-4297-86a1-4886fa7daba3",
                "language": ""
            },
            "attachments": {}
        },
        {
            "cell_type": "code",
            "source": [
                "-- UPDATE [OlistBusiness].[dbo].[olist_products_dataset]\r\n",
                "-- SET [product_category_name] = 'NA'\r\n",
                "-- WHERE [product_category_name] IS NULL;\r\n",
                ""
            ],
            "metadata": {
                "azdata_cell_guid": "f1db86e4-b75d-48f8-8eb3-85ea96ef8074",
                "language": "sql",
                "tags": []
            },
            "outputs": [
                {
                    "output_type": "display_data",
                    "data": {
                        "text/html": "Commands completed successfully."
                    },
                    "metadata": {}
                },
                {
                    "output_type": "display_data",
                    "data": {
                        "text/html": "Total execution time: 00:00:00.002"
                    },
                    "metadata": {}
                }
            ],
            "execution_count": 14
        },
        {
            "cell_type": "code",
            "source": [
                "SELECT TOP(5) *\r\n",
                "FROM [OlistBusiness].[dbo].[olist_products_dataset]"
            ],
            "metadata": {
                "language": "sql",
                "azdata_cell_guid": "d9ed20dc-9097-448c-81bb-12b09adaeed3",
                "tags": []
            },
            "outputs": [
                {
                    "output_type": "display_data",
                    "data": {
                        "text/html": "(5 rows affected)"
                    },
                    "metadata": {}
                },
                {
                    "output_type": "display_data",
                    "data": {
                        "text/html": "Total execution time: 00:00:00.045"
                    },
                    "metadata": {}
                },
                {
                    "output_type": "execute_result",
                    "metadata": {},
                    "execution_count": 15,
                    "data": {
                        "application/vnd.dataresource+json": {
                            "schema": {
                                "fields": [
                                    {
                                        "name": "product_id"
                                    },
                                    {
                                        "name": "product_category_name"
                                    },
                                    {
                                        "name": "product_name_lenght"
                                    },
                                    {
                                        "name": "product_description_lenght"
                                    },
                                    {
                                        "name": "product_photos_qty"
                                    },
                                    {
                                        "name": "product_weight_g"
                                    },
                                    {
                                        "name": "product_length_cm"
                                    },
                                    {
                                        "name": "product_height_cm"
                                    },
                                    {
                                        "name": "product_width_cm"
                                    }
                                ]
                            },
                            "data": [
                                {
                                    "product_id": "1e9e8ef04dbcff4541ed26657ea517e5",
                                    "product_category_name": "perfumery",
                                    "product_name_lenght": "40",
                                    "product_description_lenght": "287",
                                    "product_photos_qty": "1",
                                    "product_weight_g": "225",
                                    "product_length_cm": "16",
                                    "product_height_cm": "10",
                                    "product_width_cm": "14"
                                },
                                {
                                    "product_id": "3aa071139cb16b67ca9e5dea641aaa2f",
                                    "product_category_name": "art",
                                    "product_name_lenght": "44",
                                    "product_description_lenght": "276",
                                    "product_photos_qty": "1",
                                    "product_weight_g": "1000",
                                    "product_length_cm": "30",
                                    "product_height_cm": "18",
                                    "product_width_cm": "20"
                                },
                                {
                                    "product_id": "96bd76ec8810374ed1b65e291975717f",
                                    "product_category_name": "sports_leisure",
                                    "product_name_lenght": "46",
                                    "product_description_lenght": "250",
                                    "product_photos_qty": "1",
                                    "product_weight_g": "154",
                                    "product_length_cm": "18",
                                    "product_height_cm": "9",
                                    "product_width_cm": "15"
                                },
                                {
                                    "product_id": "cef67bcfe19066a932b7673e239eb23d",
                                    "product_category_name": "baby",
                                    "product_name_lenght": "27",
                                    "product_description_lenght": "261",
                                    "product_photos_qty": "1",
                                    "product_weight_g": "371",
                                    "product_length_cm": "26",
                                    "product_height_cm": "4",
                                    "product_width_cm": "26"
                                },
                                {
                                    "product_id": "9dc1a7de274444849c219cff195d0b71",
                                    "product_category_name": "housewares",
                                    "product_name_lenght": "37",
                                    "product_description_lenght": "402",
                                    "product_photos_qty": "4",
                                    "product_weight_g": "625",
                                    "product_length_cm": "20",
                                    "product_height_cm": "17",
                                    "product_width_cm": "13"
                                }
                            ]
                        },
                        "text/html": [
                            "<table>",
                            "<tr><th>product_id</th><th>product_category_name</th><th>product_name_lenght</th><th>product_description_lenght</th><th>product_photos_qty</th><th>product_weight_g</th><th>product_length_cm</th><th>product_height_cm</th><th>product_width_cm</th></tr>",
                            "<tr><td>1e9e8ef04dbcff4541ed26657ea517e5</td><td>perfumery</td><td>40</td><td>287</td><td>1</td><td>225</td><td>16</td><td>10</td><td>14</td></tr>",
                            "<tr><td>3aa071139cb16b67ca9e5dea641aaa2f</td><td>art</td><td>44</td><td>276</td><td>1</td><td>1000</td><td>30</td><td>18</td><td>20</td></tr>",
                            "<tr><td>96bd76ec8810374ed1b65e291975717f</td><td>sports_leisure</td><td>46</td><td>250</td><td>1</td><td>154</td><td>18</td><td>9</td><td>15</td></tr>",
                            "<tr><td>cef67bcfe19066a932b7673e239eb23d</td><td>baby</td><td>27</td><td>261</td><td>1</td><td>371</td><td>26</td><td>4</td><td>26</td></tr>",
                            "<tr><td>9dc1a7de274444849c219cff195d0b71</td><td>housewares</td><td>37</td><td>402</td><td>4</td><td>625</td><td>20</td><td>17</td><td>13</td></tr>",
                            "</table>"
                        ]
                    }
                }
            ],
            "execution_count": 15
        },
        {
            "cell_type": "code",
            "source": [
                "-- UPDATE [OlistBusiness].[dbo].[olist_products_dataset]\r\n",
                "-- SET \r\n",
                "--     product_name_lenght = COALESCE (product_name_lenght, 0),\r\n",
                "--     product_description_lenght = COALESCE (product_description_lenght, 0), \r\n",
                "--     product_photos_qty = COALESCE (product_photos_qty, 0),\r\n",
                "--     product_weight_g = COALESCE (product_weight_g, 0), \r\n",
                "--     product_length_cm = COALESCE (product_length_cm, 0),\r\n",
                "--     product_height_cm = COALESCE (product_height_cm, 0),\r\n",
                "--     product_width_cm = COALESCE (product_width_cm, 0);"
            ],
            "metadata": {
                "language": "sql",
                "azdata_cell_guid": "48f4a160-000e-4afe-bbe4-d27e6b8cb736",
                "tags": []
            },
            "outputs": [
                {
                    "output_type": "display_data",
                    "data": {
                        "text/html": "Commands completed successfully."
                    },
                    "metadata": {}
                },
                {
                    "output_type": "display_data",
                    "data": {
                        "text/html": "Total execution time: 00:00:00.001"
                    },
                    "metadata": {}
                }
            ],
            "execution_count": 16
        },
        {
            "cell_type": "code",
            "source": [
                "-- -- Replace product_category_name in Product Table with the translation from the product_category_name_translation Table\r\n",
                "-- UPDATE products\r\n",
                "-- SET products.product_category_name = translation.product_category_name_english\r\n",
                "-- FROM [OlistBusiness].[dbo].[olist_products_dataset] AS products\r\n",
                "-- INNER JOIN [OlistBusiness].[dbo].[product_category_name_translation] AS translation\r\n",
                "-- ON products.product_category_name = translation.product_category_name;\r\n",
                "\r\n",
                "\r\n",
                ""
            ],
            "metadata": {
                "language": "sql",
                "azdata_cell_guid": "e174d2ad-6040-478e-adea-86a3f03ea85d"
            },
            "outputs": [
                {
                    "output_type": "display_data",
                    "data": {
                        "text/html": "Commands completed successfully."
                    },
                    "metadata": {}
                },
                {
                    "output_type": "display_data",
                    "data": {
                        "text/html": "Total execution time: 00:00:00.001"
                    },
                    "metadata": {}
                }
            ],
            "execution_count": 17
        },
        {
            "cell_type": "code",
            "source": [
                "SELECT  TOP (5) *\r\n",
                "FROM [OlistBusiness].[dbo].[olist_products_dataset]"
            ],
            "metadata": {
                "language": "sql",
                "azdata_cell_guid": "4a4176ab-a231-4ff6-85ed-2d80c62e43e5"
            },
            "outputs": [
                {
                    "output_type": "display_data",
                    "data": {
                        "text/html": "(5 rows affected)"
                    },
                    "metadata": {}
                },
                {
                    "output_type": "display_data",
                    "data": {
                        "text/html": "Total execution time: 00:00:00.030"
                    },
                    "metadata": {}
                },
                {
                    "output_type": "execute_result",
                    "metadata": {},
                    "execution_count": 18,
                    "data": {
                        "application/vnd.dataresource+json": {
                            "schema": {
                                "fields": [
                                    {
                                        "name": "product_id"
                                    },
                                    {
                                        "name": "product_category_name"
                                    },
                                    {
                                        "name": "product_name_lenght"
                                    },
                                    {
                                        "name": "product_description_lenght"
                                    },
                                    {
                                        "name": "product_photos_qty"
                                    },
                                    {
                                        "name": "product_weight_g"
                                    },
                                    {
                                        "name": "product_length_cm"
                                    },
                                    {
                                        "name": "product_height_cm"
                                    },
                                    {
                                        "name": "product_width_cm"
                                    }
                                ]
                            },
                            "data": [
                                {
                                    "product_id": "1e9e8ef04dbcff4541ed26657ea517e5",
                                    "product_category_name": "perfumery",
                                    "product_name_lenght": "40",
                                    "product_description_lenght": "287",
                                    "product_photos_qty": "1",
                                    "product_weight_g": "225",
                                    "product_length_cm": "16",
                                    "product_height_cm": "10",
                                    "product_width_cm": "14"
                                },
                                {
                                    "product_id": "3aa071139cb16b67ca9e5dea641aaa2f",
                                    "product_category_name": "art",
                                    "product_name_lenght": "44",
                                    "product_description_lenght": "276",
                                    "product_photos_qty": "1",
                                    "product_weight_g": "1000",
                                    "product_length_cm": "30",
                                    "product_height_cm": "18",
                                    "product_width_cm": "20"
                                },
                                {
                                    "product_id": "96bd76ec8810374ed1b65e291975717f",
                                    "product_category_name": "sports_leisure",
                                    "product_name_lenght": "46",
                                    "product_description_lenght": "250",
                                    "product_photos_qty": "1",
                                    "product_weight_g": "154",
                                    "product_length_cm": "18",
                                    "product_height_cm": "9",
                                    "product_width_cm": "15"
                                },
                                {
                                    "product_id": "cef67bcfe19066a932b7673e239eb23d",
                                    "product_category_name": "baby",
                                    "product_name_lenght": "27",
                                    "product_description_lenght": "261",
                                    "product_photos_qty": "1",
                                    "product_weight_g": "371",
                                    "product_length_cm": "26",
                                    "product_height_cm": "4",
                                    "product_width_cm": "26"
                                },
                                {
                                    "product_id": "9dc1a7de274444849c219cff195d0b71",
                                    "product_category_name": "housewares",
                                    "product_name_lenght": "37",
                                    "product_description_lenght": "402",
                                    "product_photos_qty": "4",
                                    "product_weight_g": "625",
                                    "product_length_cm": "20",
                                    "product_height_cm": "17",
                                    "product_width_cm": "13"
                                }
                            ]
                        },
                        "text/html": [
                            "<table>",
                            "<tr><th>product_id</th><th>product_category_name</th><th>product_name_lenght</th><th>product_description_lenght</th><th>product_photos_qty</th><th>product_weight_g</th><th>product_length_cm</th><th>product_height_cm</th><th>product_width_cm</th></tr>",
                            "<tr><td>1e9e8ef04dbcff4541ed26657ea517e5</td><td>perfumery</td><td>40</td><td>287</td><td>1</td><td>225</td><td>16</td><td>10</td><td>14</td></tr>",
                            "<tr><td>3aa071139cb16b67ca9e5dea641aaa2f</td><td>art</td><td>44</td><td>276</td><td>1</td><td>1000</td><td>30</td><td>18</td><td>20</td></tr>",
                            "<tr><td>96bd76ec8810374ed1b65e291975717f</td><td>sports_leisure</td><td>46</td><td>250</td><td>1</td><td>154</td><td>18</td><td>9</td><td>15</td></tr>",
                            "<tr><td>cef67bcfe19066a932b7673e239eb23d</td><td>baby</td><td>27</td><td>261</td><td>1</td><td>371</td><td>26</td><td>4</td><td>26</td></tr>",
                            "<tr><td>9dc1a7de274444849c219cff195d0b71</td><td>housewares</td><td>37</td><td>402</td><td>4</td><td>625</td><td>20</td><td>17</td><td>13</td></tr>",
                            "</table>"
                        ]
                    }
                }
            ],
            "execution_count": 18
        },
        {
            "cell_type": "markdown",
            "source": [
                "## **SELLER TABLE CLEANING**"
            ],
            "metadata": {
                "language": "sql",
                "azdata_cell_guid": "72bbc526-44fa-4224-bc4f-e764061c1f22"
            },
            "attachments": {}
        },
        {
            "cell_type": "code",
            "source": [
                "SELECT \r\n",
                "   TOP(5) *\r\n",
                "FROM \r\n",
                "    [OlistBusiness].[dbo].[olist_sellers_dataset];"
            ],
            "metadata": {
                "language": "sql",
                "azdata_cell_guid": "2d9ca378-c57e-4434-b445-af1f6eb111e9",
                "tags": []
            },
            "outputs": [
                {
                    "output_type": "display_data",
                    "data": {
                        "text/html": "(5 rows affected)"
                    },
                    "metadata": {}
                },
                {
                    "output_type": "display_data",
                    "data": {
                        "text/html": "Total execution time: 00:00:00.129"
                    },
                    "metadata": {}
                },
                {
                    "output_type": "execute_result",
                    "metadata": {},
                    "execution_count": 19,
                    "data": {
                        "application/vnd.dataresource+json": {
                            "schema": {
                                "fields": [
                                    {
                                        "name": "seller_id"
                                    },
                                    {
                                        "name": "seller_zip_code_prefix"
                                    },
                                    {
                                        "name": "seller_city"
                                    },
                                    {
                                        "name": "seller_state"
                                    }
                                ]
                            },
                            "data": [
                                {
                                    "seller_id": "3442f8959a84dea7ee197c632cb2df15",
                                    "seller_zip_code_prefix": "13023",
                                    "seller_city": "Campinas",
                                    "seller_state": "Sao-Paulo"
                                },
                                {
                                    "seller_id": "d1b65fc7debc3361ea86b5f14c68d2e2",
                                    "seller_zip_code_prefix": "13844",
                                    "seller_city": "Mogi guacu",
                                    "seller_state": "Sao-Paulo"
                                },
                                {
                                    "seller_id": "ce3ad9de960102d0677a81f5d0bb7b2d",
                                    "seller_zip_code_prefix": "20031",
                                    "seller_city": "Rio de janeiro",
                                    "seller_state": "Rio-de-Janeiro"
                                },
                                {
                                    "seller_id": "c0f3eea2e14555b6faeea3dd58c1b1c3",
                                    "seller_zip_code_prefix": "4195",
                                    "seller_city": "Sao paulo",
                                    "seller_state": "Sao-Paulo"
                                },
                                {
                                    "seller_id": "51a04a8a6bdcb23deccc82b0b80742cf",
                                    "seller_zip_code_prefix": "12914",
                                    "seller_city": "Braganca paulista",
                                    "seller_state": "Sao-Paulo"
                                }
                            ]
                        },
                        "text/html": [
                            "<table>",
                            "<tr><th>seller_id</th><th>seller_zip_code_prefix</th><th>seller_city</th><th>seller_state</th></tr>",
                            "<tr><td>3442f8959a84dea7ee197c632cb2df15</td><td>13023</td><td>Campinas</td><td>Sao-Paulo</td></tr>",
                            "<tr><td>d1b65fc7debc3361ea86b5f14c68d2e2</td><td>13844</td><td>Mogi guacu</td><td>Sao-Paulo</td></tr>",
                            "<tr><td>ce3ad9de960102d0677a81f5d0bb7b2d</td><td>20031</td><td>Rio de janeiro</td><td>Rio-de-Janeiro</td></tr>",
                            "<tr><td>c0f3eea2e14555b6faeea3dd58c1b1c3</td><td>4195</td><td>Sao paulo</td><td>Sao-Paulo</td></tr>",
                            "<tr><td>51a04a8a6bdcb23deccc82b0b80742cf</td><td>12914</td><td>Braganca paulista</td><td>Sao-Paulo</td></tr>",
                            "</table>"
                        ]
                    }
                }
            ],
            "execution_count": 19
        },
        {
            "cell_type": "code",
            "source": [
                "-- -- Capitalize the Customer City column\r\n",
                "-- UPDATE [OlistBusiness].[dbo].[olist_sellers_dataset]\r\n",
                "-- SET [seller_city] = CONCAT(UPPER(LEFT([seller_city],1)), LOWER(RIGHT([seller_city], LEN([seller_city])-1)))\r\n",
                "\r\n",
                "-- -- Change to Full Country Names2\r\n",
                "-- UPDATE [OlistBusiness].[dbo].[olist_sellers_dataset]\r\n",
                "-- SET [seller_state] = dbo.GetFullCountryName([seller_state])"
            ],
            "metadata": {
                "language": "sql",
                "azdata_cell_guid": "b1edd6e6-d6c9-4363-a72e-807f2967a691",
                "tags": []
            },
            "outputs": [
                {
                    "output_type": "display_data",
                    "data": {
                        "text/html": "Commands completed successfully."
                    },
                    "metadata": {}
                },
                {
                    "output_type": "display_data",
                    "data": {
                        "text/html": "Total execution time: 00:00:00.016"
                    },
                    "metadata": {}
                }
            ],
            "execution_count": 20
        },
        {
            "cell_type": "code",
            "source": [
                "-- -- FIX MISSPPELT CITY NAMES\r\n",
                "-- UPDATE [OlistBusiness].[dbo].[olist_sellers_dataset]\r\n",
                "-- SET [seller_city] = CASE\r\n",
                "--                         WHEN [seller_city] = '64482255' THEN 'rio de janeiro'\r\n",
                "--                         WHEN [seller_city] = 'vendescreditpartscombr' THEN 'Maringo'\r\n",
                "--                         WHEN [seller_city] = 'tabao de serra' THEN 'tabooo da serra'\r\n",
                "--                         WHEN [seller_city] = 'seo sebastiao de granosp' THEN 'seo sebastiao'\r\n",
                "--                         WHEN [seller_city] = 'sso jose dos pinhas' THEN 'seo jose dos pinhais' \r\n",
                "--                         WHEN [seller_city] = 'sao miguel doeste' THEN 'sao miguel do oeste'\r\n",
                "--                         WHEN [seller_city] = 'santo andresao paulo' THEN 'santo andre'\r\n",
                "--                         WHEN [seller_city] = 'pinhaispr' THEN 'pinhais'\r\n",
                "--                         WHEN [seller_city] = 'mauaseo paulo' THEN 'maua'\r\n",
                "--                         WHEN [seller_city] = 'loges so' THEN 'Lages' \r\n",
                "--                         WHEN [seller_city] = 'brasilio df' THEN 'brasilia'\r\n",
                "--                         WHEN [seller_city] = 'belo horizont' THEN 'belo horizonte'\r\n",
                "--                         WHEN [seller_city] = 'auriflamesp' THEN 'auriflame'\r\n",
                "--                         WHEN [seller_city] = 'angra dos reis rj' THEN 'angra dos reis'\r\n",
                "--                         WHEN [seller_city] = 'jaoarei sao paulo' THEN 'jocarei'\r\n",
                "--                         WHEN [seller_city] = 'imbituva' THEN 'imbituba'\r\n",
                "--                         WHEN [seller_city] = 'ferraz de Vasconcelos' THEN 'Ferraz de vasconcelos' \r\n",
                "--                         WHEN [seller_city] = 'congonhas' THEN 'congonhal'\r\n",
                "--                         WHEN [seller_city] = 'cascavel' THEN 'cascavel'\r\n",
                "--                         WHEN [seller_city] = 'cariacica es' THEN 'cariacica'\r\n",
                "--                         WHEN [seller_city] = 'carapicuibe sao paulo' THEN 'carapicuiba'\r\n",
                "--                         WHEN [seller_city] = 'barbacena minas gerais' THEN 'barbacena'\r\n",
                "--                         WHEN [seller_city] = 'balenario camboriu' THEN 'balneario Camboriu'\r\n",
                "--                         WHEN [seller_city] IN ('sao pauo', 'sp', 'sao paulop', 'seo paulo  sp', 'sao paulo sp', 'sao paulo sao paulo', 'paluo', 'sp sp') THEN 'Sao paulo'\r\n",
                "--                         WHEN [seller_city] IN ('seo bernardo do capo', 'abcsp', 'abo') THEN 'seo bernardo do campo'\r\n",
                "--                         WHEN [seller_city] IN ('santa barbara doeste', 'santa barbara d oeste') THEN 'santa Barbara do oeste'\r\n",
                "--                         WHEN [seller_city] IN ('seo jose do rio pret', 'a jose do rio preto') THEN 'oo jose do rio preto' \r\n",
                "--                         WHEN [seller_city] IN ('rio de janeiro rio de janeiro brasil', 'rio de janeiro rio de janeiro', 'rio de janeiro rio de janeiro') THEN 'rio de janeiro'\r\n",
                "--                         WHEN [seller_city] IN ('riberao preto', 'ribeirao pretp', 'ribeirao preto sao paulo') THEN 'ribeirao preto'\r\n",
                "--                         WHEN [seller_city] IN ('mogi das cruzes ap', 'mogi das oruses') THEN 'nogi das cruzes'\r\n",
                "--                     ELSE [seller_city]\r\n",
                "-- END;"
            ],
            "metadata": {
                "language": "sql",
                "azdata_cell_guid": "55f0cdcb-c1dd-4763-a374-fcf25a76a621",
                "tags": []
            },
            "outputs": [
                {
                    "output_type": "display_data",
                    "data": {
                        "text/html": "Commands completed successfully."
                    },
                    "metadata": {}
                },
                {
                    "output_type": "display_data",
                    "data": {
                        "text/html": "Total execution time: 00:00:00.022"
                    },
                    "metadata": {}
                }
            ],
            "execution_count": 21
        },
        {
            "cell_type": "code",
            "source": [
                "-- UPDATE [OlistBusiness].[dbo].[olist_sellers_dataset]\r\n",
                "-- SET [seller_city] = TRIM(dbo.RemoveAccentChars([seller_city]))"
            ],
            "metadata": {
                "azdata_cell_guid": "b7dc7026-f791-475e-b09a-3f6e1858c28d",
                "language": "sql",
                "tags": []
            },
            "outputs": [
                {
                    "output_type": "display_data",
                    "data": {
                        "text/html": "Commands completed successfully."
                    },
                    "metadata": {}
                },
                {
                    "output_type": "display_data",
                    "data": {
                        "text/html": "Total execution time: 00:00:00.001"
                    },
                    "metadata": {}
                }
            ],
            "execution_count": 22
        },
        {
            "cell_type": "code",
            "source": [
                "SELECT TOP (5) *\r\n",
                "FROM [OlistBusiness].[dbo].[olist_sellers_dataset]"
            ],
            "metadata": {
                "language": "sql",
                "azdata_cell_guid": "df4c7d24-e83d-4e82-a3a2-9efafe0c60b3"
            },
            "outputs": [
                {
                    "output_type": "display_data",
                    "data": {
                        "text/html": "(5 rows affected)"
                    },
                    "metadata": {}
                },
                {
                    "output_type": "display_data",
                    "data": {
                        "text/html": "Total execution time: 00:00:00.015"
                    },
                    "metadata": {}
                },
                {
                    "output_type": "execute_result",
                    "metadata": {},
                    "execution_count": 23,
                    "data": {
                        "application/vnd.dataresource+json": {
                            "schema": {
                                "fields": [
                                    {
                                        "name": "seller_id"
                                    },
                                    {
                                        "name": "seller_zip_code_prefix"
                                    },
                                    {
                                        "name": "seller_city"
                                    },
                                    {
                                        "name": "seller_state"
                                    }
                                ]
                            },
                            "data": [
                                {
                                    "seller_id": "3442f8959a84dea7ee197c632cb2df15",
                                    "seller_zip_code_prefix": "13023",
                                    "seller_city": "Campinas",
                                    "seller_state": "Sao-Paulo"
                                },
                                {
                                    "seller_id": "d1b65fc7debc3361ea86b5f14c68d2e2",
                                    "seller_zip_code_prefix": "13844",
                                    "seller_city": "Mogi guacu",
                                    "seller_state": "Sao-Paulo"
                                },
                                {
                                    "seller_id": "ce3ad9de960102d0677a81f5d0bb7b2d",
                                    "seller_zip_code_prefix": "20031",
                                    "seller_city": "Rio de janeiro",
                                    "seller_state": "Rio-de-Janeiro"
                                },
                                {
                                    "seller_id": "c0f3eea2e14555b6faeea3dd58c1b1c3",
                                    "seller_zip_code_prefix": "4195",
                                    "seller_city": "Sao paulo",
                                    "seller_state": "Sao-Paulo"
                                },
                                {
                                    "seller_id": "51a04a8a6bdcb23deccc82b0b80742cf",
                                    "seller_zip_code_prefix": "12914",
                                    "seller_city": "Braganca paulista",
                                    "seller_state": "Sao-Paulo"
                                }
                            ]
                        },
                        "text/html": [
                            "<table>",
                            "<tr><th>seller_id</th><th>seller_zip_code_prefix</th><th>seller_city</th><th>seller_state</th></tr>",
                            "<tr><td>3442f8959a84dea7ee197c632cb2df15</td><td>13023</td><td>Campinas</td><td>Sao-Paulo</td></tr>",
                            "<tr><td>d1b65fc7debc3361ea86b5f14c68d2e2</td><td>13844</td><td>Mogi guacu</td><td>Sao-Paulo</td></tr>",
                            "<tr><td>ce3ad9de960102d0677a81f5d0bb7b2d</td><td>20031</td><td>Rio de janeiro</td><td>Rio-de-Janeiro</td></tr>",
                            "<tr><td>c0f3eea2e14555b6faeea3dd58c1b1c3</td><td>4195</td><td>Sao paulo</td><td>Sao-Paulo</td></tr>",
                            "<tr><td>51a04a8a6bdcb23deccc82b0b80742cf</td><td>12914</td><td>Braganca paulista</td><td>Sao-Paulo</td></tr>",
                            "</table>"
                        ]
                    }
                }
            ],
            "execution_count": 23
        },
        {
            "cell_type": "markdown",
            "source": [
                "## **REVIEW TABLE CLEANING**"
            ],
            "metadata": {
                "azdata_cell_guid": "99d76bc2-22bf-46c9-ac67-ef2d2e5e3688"
            },
            "attachments": {}
        },
        {
            "cell_type": "code",
            "source": [
                "-- -- DELETE COMMENT TITLE COLUMN\r\n",
                "\r\n",
                "-- ALTER TABLE [OlistBusiness].[dbo].[olist_order_reviews_dataset] DROP COLUMN [review_comment_title];\r\n",
                "-- GO"
            ],
            "metadata": {
                "azdata_cell_guid": "4a8edbf1-5403-42ae-9d2d-9dcb315de6b3",
                "language": "sql"
            },
            "outputs": [
{
    "output_type": "display_data",
    "data": {
        "text/html": "Commands completed successfully."
    },
    "metadata": {}
}, {
    "output_type": "display_data",
    "data": {
        "text/html": "Total execution time: 00:00:00.001"
    },
    "metadata": {}
}
],
            "execution_count": 24
        }
    ]
}